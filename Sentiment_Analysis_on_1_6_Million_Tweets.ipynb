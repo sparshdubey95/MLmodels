{
  "nbformat": 4,
  "nbformat_minor": 0,
  "metadata": {
    "colab": {
      "provenance": [],
      "authorship_tag": "ABX9TyO/oa4OGCeYW/sQzm+HICYU",
      "include_colab_link": true
    },
    "kernelspec": {
      "name": "python3",
      "display_name": "Python 3"
    },
    "language_info": {
      "name": "python"
    }
  },
  "cells": [
    {
      "cell_type": "markdown",
      "metadata": {
        "id": "view-in-github",
        "colab_type": "text"
      },
      "source": [
        "<a href=\"https://colab.research.google.com/github/sparshdubey95/MLmodels/blob/main/Sentiment_Analysis_on_1_6_Million_Tweets.ipynb\" target=\"_parent\"><img src=\"https://colab.research.google.com/assets/colab-badge.svg\" alt=\"Open In Colab\"/></a>"
      ]
    },
    {
      "cell_type": "code",
      "execution_count": null,
      "metadata": {
        "id": "0C6DHzRnd-0k"
      },
      "outputs": [],
      "source": [
        "import pandas as pd\n",
        "import re\n",
        "from sklearn.model_selection import train_test_split\n",
        "from sklearn.feature_extraction.text import TfidfVectorizer\n",
        "from sklearn.linear_model import LogisticRegression\n",
        "from sklearn.naive_bayes import MultinomialNB\n",
        "from sklearn.metrics import accuracy_score, classification_report"
      ]
    },
    {
      "cell_type": "code",
      "source": [
        "# Define column names based on Sentiment140 dataset structure\n",
        "columns = ['target', 'id', 'date', 'flag', 'user', 'text']\n",
        "\n",
        "# Load the dataset\n",
        "df = pd.read_csv('/content/training.1600000.processed.noemoticon.csv', encoding='latin-1', names=columns)\n",
        "\n",
        "# Map target labels from 0 and 4 to 0 and 1 for binary classification\n",
        "df['target'] = df['target'].map({0: 0, 4: 1})\n",
        "\n",
        "# Verify the data\n",
        "print(\"Dataset shape:\", df.shape)\n",
        "print(\"Target distribution:\\n\", df['target'].value_counts())"
      ],
      "metadata": {
        "id": "YlSVxFo0eIuH"
      },
      "execution_count": null,
      "outputs": []
    },
    {
      "cell_type": "code",
      "source": [
        "def clean_text(text):\n",
        "    \"\"\"Clean the tweet text by removing URLs, mentions, hashtags, and punctuation.\"\"\"\n",
        "    text = text.lower()                         # Convert to lowercase\n",
        "    text = re.sub(r'http\\S+', '', text)         # Remove URLs\n",
        "    text = re.sub(r'@\\w+', '', text)           # Remove mentions\n",
        "    text = re.sub(r'#\\w+', '', text)           # Remove hashtags\n",
        "    text = re.sub(r'[^a-z\\s]', '', text)       # Remove punctuation, keep letters and spaces\n",
        "    return text.strip()\n",
        "\n",
        "# Example of applying it (we'll use it in vectorization)\n",
        "print(\"Sample cleaning:\")\n",
        "sample_text = df['text'].iloc[0]\n",
        "print(\"Original:\", sample_text)\n",
        "print(\"Cleaned:\", clean_text(sample_text))"
      ],
      "metadata": {
        "id": "db0gCHt0eMHF"
      },
      "execution_count": null,
      "outputs": []
    },
    {
      "cell_type": "code",
      "source": [
        "# Define features (X) and labels (y)\n",
        "X = df['text']\n",
        "y = df['target']\n",
        "\n",
        "# Split into training and testing sets\n",
        "X_train, X_test, y_train, y_test = train_test_split(\n",
        "    X, y, test_size=0.2, random_state=42\n",
        ")\n",
        "\n",
        "print(\"Training set size:\", X_train.shape[0])\n",
        "print(\"Testing set size:\", X_test.shape[0])"
      ],
      "metadata": {
        "id": "g9PEwe3aeVo1"
      },
      "execution_count": null,
      "outputs": []
    },
    {
      "cell_type": "code",
      "source": [
        "# Initialize TF-IDF Vectorizer with custom pre-processing\n",
        "vectorizer = TfidfVectorizer(\n",
        "    preprocessor=clean_text,\n",
        "    max_features=5000,       # Limit to top 5000 features for efficiency\n",
        "    stop_words='english'     # Remove common English stop words\n",
        ")\n",
        "\n",
        "# Fit and transform the training data, transform the testing data\n",
        "X_train_tfidf = vectorizer.fit_transform(X_train)\n",
        "X_test_tfidf = vectorizer.transform(X_test)\n",
        "\n",
        "print(\"TF-IDF training matrix shape:\", X_train_tfidf.shape)\n",
        "print(\"TF-IDF testing matrix shape:\", X_test_tfidf.shape)"
      ],
      "metadata": {
        "id": "sjXlOP01eXLN"
      },
      "execution_count": null,
      "outputs": []
    },
    {
      "cell_type": "code",
      "source": [
        "# Initialize and train Logistic Regression\n",
        "lr_model = LogisticRegression(max_iter=1000)\n",
        "lr_model.fit(X_train_tfidf, y_train)\n",
        "\n",
        "# Predict on test set\n",
        "y_pred_lr = lr_model.predict(X_test_tfidf)"
      ],
      "metadata": {
        "id": "5lYNNkRieY92"
      },
      "execution_count": null,
      "outputs": []
    },
    {
      "cell_type": "code",
      "source": [
        "# Initialize and train Multinomial Naive Bayes\n",
        "nb_model = MultinomialNB()\n",
        "nb_model.fit(X_train_tfidf, y_train)\n",
        "\n",
        "# Predict on test set\n",
        "y_pred_nb = nb_model.predict(X_test_tfidf)"
      ],
      "metadata": {
        "id": "xfxRrN8beazV"
      },
      "execution_count": null,
      "outputs": []
    },
    {
      "cell_type": "code",
      "source": [
        "# Accuracy\n",
        "lr_accuracy = accuracy_score(y_test, y_pred_lr)\n",
        "print(\"Logistic Regression Accuracy:\", lr_accuracy)\n",
        "\n",
        "# Classification Report\n",
        "print(\"Logistic Regression Classification Report:\")\n",
        "print(classification_report(y_test, y_pred_lr, target_names=['Negative', 'Positive']))"
      ],
      "metadata": {
        "id": "pPF4GeFFedIV"
      },
      "execution_count": null,
      "outputs": []
    },
    {
      "cell_type": "code",
      "source": [
        "# Accuracy\n",
        "nb_accuracy = accuracy_score(y_test, y_pred_nb)\n",
        "print(\"Naive Bayes Accuracy:\", nb_accuracy)\n",
        "\n",
        "# Classification Report\n",
        "print(\"Naive Bayes Classification Report:\")\n",
        "print(classification_report(y_test, y_pred_nb, target_names=['Negative', 'Positive']))"
      ],
      "metadata": {
        "id": "87wSOBTtefDn"
      },
      "execution_count": null,
      "outputs": []
    }
  ]
}